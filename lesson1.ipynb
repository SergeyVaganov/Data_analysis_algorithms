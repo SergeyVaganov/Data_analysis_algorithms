{
 "cells": [
  {
   "cell_type": "code",
   "execution_count": 1,
   "metadata": {},
   "outputs": [],
   "source": [
    "import numpy as np\n",
    "import matplotlib.pyplot as plt"
   ]
  },
  {
   "cell_type": "code",
   "execution_count": 2,
   "metadata": {},
   "outputs": [],
   "source": [
    "X = np.array([[ 1,  1],\n",
    "              [ 1,  1],\n",
    "              [ 1,  2],\n",
    "              [ 1,  5],\n",
    "              [ 1,  3],\n",
    "              [ 1,  0],\n",
    "              [ 1,  5],\n",
    "              [ 1, 10],\n",
    "              [ 1,  1],\n",
    "              [ 1,  2]])"
   ]
  },
  {
   "cell_type": "code",
   "execution_count": 3,
   "metadata": {},
   "outputs": [],
   "source": [
    "y = [45, 55, 50, 55, 60, 35, 75, 80, 50, 60]"
   ]
  },
  {
   "cell_type": "code",
   "execution_count": 4,
   "metadata": {},
   "outputs": [],
   "source": [
    "def calc_mse(y, y_pred):\n",
    "    err = np.mean((y - y_pred)**2)\n",
    "    return err"
   ]
  },
  {
   "cell_type": "code",
   "execution_count": 5,
   "metadata": {},
   "outputs": [
    {
     "name": "stdout",
     "output_type": "stream",
     "text": [
      "Number of objects = 10        \n",
      "Learning rate = 0.01        \n",
      "Initial weights = [1.  0.5] \n",
      "\n",
      "Iteration #0: W_new = [2.08 4.27], MSE = 3047.75\n",
      "Iteration #10: W_new = [ 6.67106886 10.61676385], MSE = 749.71\n",
      "Iteration #20: W_new = [ 9.49320908 10.25731657], MSE = 648.91\n",
      "Iteration #30: W_new = [11.85740092  9.83349244], MSE = 570.46\n",
      "Iteration #40: W_new = [13.86876921  9.46898661], MSE = 508.03\n",
      "Iteration #50: W_new = [15.59085668  9.15672679], MSE = 457.73\n",
      "Iteration #60: W_new = [17.07337653  8.88789585], MSE = 416.77\n",
      "Iteration #70: W_new = [18.35601294  8.65530964], MSE = 383.06\n",
      "Iteration #80: W_new = [19.47073522  8.45317196], MSE = 355.08\n",
      "Iteration #90: W_new = [20.44350656  8.27677488], MSE = 331.65\n"
     ]
    }
   ],
   "source": [
    "n = X.shape[0]\n",
    "\n",
    "eta = 1e-2 \n",
    "n_iter = 100\n",
    "\n",
    "W = np.array([1, 0.5])\n",
    "print(f'Number of objects = {n} \\\n",
    "       \\nLearning rate = {eta} \\\n",
    "       \\nInitial weights = {W} \\n')\n",
    "\n",
    "for i in range(n_iter):\n",
    "    y_pred = np.dot(X, W)\n",
    "    err = calc_mse(y, y_pred)\n",
    "    for k in range(W.shape[0]):\n",
    "        W[k] -= eta * (1/n * 2 * X[:, k] @ (y_pred - y))\n",
    "    if i % 10 == 0:\n",
    "        eta /= 1.1\n",
    "        print(f'Iteration #{i}: W_new = {W}, MSE = {round(err, 2)}')"
   ]
  },
  {
   "cell_type": "markdown",
   "metadata": {},
   "source": [
    "# ЗАДАНИЕ 1\n",
    "\n",
    "### Используя файл Lesson_1_extended.ipynb (он в web1.zip в материалах):\n",
    "### Подберите скорость обучения и количество итераций\n"
   ]
  },
  {
   "cell_type": "markdown",
   "metadata": {},
   "source": [
    "Для подбора скорости обучения необходимо задать критерий останова. В качестве такого критерия использовано \"изменение весов\".\n",
    "Процесс подбора весов заканчивается когда изменение весов в итерации меньще epsilon = 1e-3\n",
    "В качестве функции подбора я взял алгоритм из третьего задания."
   ]
  },
  {
   "cell_type": "code",
   "execution_count": 6,
   "metadata": {
    "scrolled": false
   },
   "outputs": [],
   "source": [
    "def iter(X, eta=1e-2, delta_eta= 1.1, epsilon=1e-3, prt=False):\n",
    "    ''' \n",
    "    X - обучающая выборка\n",
    "    eta - скорость обучения\n",
    "    delta_eta - корректировка скорости обучения\n",
    "    epsilon - критерий останова\n",
    "    prt - вывод на экран лога\n",
    "    '''\n",
    "    eta_start = eta\n",
    "    n = X.shape[0]\n",
    "    W = np.array([1, 0.5])    \n",
    "    W_old = np.array([np.inf, np.inf])\n",
    "    i = 0\n",
    "    while ((sum(np.abs(W_old-W)>epsilon))>0): \n",
    "        y_pred = np.dot(X, W)\n",
    "        err = calc_mse(y, y_pred)\n",
    "        W_old = W.copy()\n",
    "        W -= eta * (1/n * 2 * np.dot(X.T, y_pred - y))\n",
    "        if i % 50 == 0:\n",
    "            eta /= delta_eta            \n",
    "            if prt:\n",
    "                print(f'Iteration #{i}: W_new = {W}, MSE = {round(err,2)}')\n",
    "        i +=1 \n",
    "    return [i, eta_start, delta_eta, err]\n"
   ]
  },
  {
   "cell_type": "markdown",
   "metadata": {},
   "source": [
    "Произведём поиск скоростей обучения в 3-х диапазонах для разных значений корректировки. Использоване одного и того же диапазона затруднительно по причине того что при некоторых значениях скоростей фунйия выдаёт ошибку в силу больших значений, поэтому диапазоны подобраны под значения."
   ]
  },
  {
   "cell_type": "code",
   "execution_count": 7,
   "metadata": {},
   "outputs": [],
   "source": [
    "range1 = np.linspace(0.01, 0.056, 100)  # для delta_eta = 1  \n",
    "range2 = np.linspace(0.01, 0.07, 100)  # для delta_eta = 1.05 \n",
    "range3 = np.linspace(0.01, 0.08, 100) # для delta_eta = 1.1  "
   ]
  },
  {
   "cell_type": "markdown",
   "metadata": {},
   "source": [
    "Генерируем массивы, прогоняя функцию _iter()_ по всему диапазону скоростей обучения с разными значениями корректировки "
   ]
  },
  {
   "cell_type": "code",
   "execution_count": 8,
   "metadata": {},
   "outputs": [],
   "source": [
    "iterations1 = np.array([iter(X, eta=el, delta_eta=1) for el in range1])\n",
    "iterations2 = np.array([iter(X, eta=el, delta_eta=1.05) for el in range2])\n",
    "iterations3 = np.array([iter(X, eta=el, delta_eta=1.1) for el in range3])"
   ]
  },
  {
   "cell_type": "markdown",
   "metadata": {},
   "source": [
    "Находим минимальное значение количества итераций при разных значениях корректировки. Определяем оптимальные значения скоростей обучения."
   ]
  },
  {
   "cell_type": "code",
   "execution_count": 9,
   "metadata": {
    "scrolled": true
   },
   "outputs": [
    {
     "name": "stdout",
     "output_type": "stream",
     "text": [
      "для корректировки delta_eta = 1, \n",
      "скорость обучения =  0.055,    количество итераций = 148.0, MSE = 43.968972105504044\n",
      "\n",
      "\n",
      "для корректировки delta_eta = 1.05, \n",
      "скорость обучения =  0.06,    количество итераций = 150.0, MSE = 43.96894233195637\n",
      "\n",
      "\n",
      "для корректировки delta_eta = 1.1, \n",
      "скорость обучения =  0.067,    количество итераций = 148.0, MSE = 43.96895159857338\n"
     ]
    }
   ],
   "source": [
    "result1 = iterations1[iterations1[:,0]==np.min(iterations1[:,0]),:]\n",
    "result2 = iterations2[iterations2[:,0]==np.min(iterations2[:,0]),:]\n",
    "result3 = iterations3[iterations3[:,0]==np.min(iterations3[:,0]),:]\n",
    "print(f'для корректировки delta_eta = 1, \\nскорость обучения =  {round(result1[0][1],3)},\\\n",
    "    количество итераций = {result1[0][0]}, MSE = {result1[0][3]}\\n\\n')\n",
    "print(f'для корректировки delta_eta = 1.05, \\nскорость обучения =  {round(result2[0][1],3)},\\\n",
    "    количество итераций = {result2[0][0]}, MSE = {result2[0][3]}\\n\\n')\n",
    "print(f'для корректировки delta_eta = 1.1, \\nскорость обучения =  {round(result3[0][1],3)},\\\n",
    "    количество итераций = {result3[0][0]}, MSE = {result3[0][3]}')\n"
   ]
  },
  {
   "cell_type": "code",
   "execution_count": 18,
   "metadata": {},
   "outputs": [
    {
     "data": {
      "image/png": "[encoded data removed]",
      "text/plain": [
       "<Figure size 432x288 with 1 Axes>"
      ]
     },
     "metadata": {
      "needs_background": "light"
     },
     "output_type": "display_data"
    }
   ],
   "source": [
    "plt.plot(range1, iterations1[:,0], label = 'delta_eta = 1')\n",
    "plt.plot(range2, iterations2[:,0], label = 'delta_eta = 1.05')\n",
    "plt.plot(range3, iterations3[:,0], label = 'delta_eta = 1.1')\n",
    "plt.xlabel(\"Скорость обучения 'eta'\")\n",
    "plt.ylabel(\"Количество итераций\")\n",
    "plt.legend()\n",
    "plt.show()"
   ]
  },
  {
   "cell_type": "markdown",
   "metadata": {},
   "source": [
    "# Вывод:\n",
    "  1. Введение корректировки привело к возможности повысить скорость обучения, но в данном примере это не привело к каким то значитлеьным выигрышам по количеству итераций. \n",
    "  2. Так же пришлось изменить частоту применения корректировки, с одного раза за каждые 10 итерраций до 1 раза каждые 50 итерраций\n",
    "  3. Итоговые значения: \n",
    "  \n",
    "для корректировки delta_eta = 1, \n",
    "скорость обучения =  0.055,    количество итераций = 148.0, MSE = 43.968972105504044\n",
    "\n",
    "\n",
    "для корректировки delta_eta = 1.05, \n",
    "скорость обучения =  0.06,    количество итераций = 150.0, MSE = 43.96894233195637\n",
    "\n",
    "\n",
    "для корректировки delta_eta = 1.1, \n",
    "скорость обучения =  0.067,    количество итераций = 148.0, MSE = 43.96895159857338"
   ]
  },
  {
   "cell_type": "markdown",
   "metadata": {},
   "source": [
    "# ЗАДАНИЕ 2\n",
    "\n",
    "### В коде есть ошибка, исправьте ее."
   ]
  },
  {
   "cell_type": "markdown",
   "metadata": {},
   "source": [
    "Ошибка заключается в том что в строке:\n",
    "\n",
    "        W -= eta * (1/n * 2 * np.dot(X, y_pred - y))\n",
    "        \n",
    "умножается не транспонированная матрица X. \n",
    "До изменения использовался срез, который неявным образом транспонировал Х."
   ]
  },
  {
   "cell_type": "code",
   "execution_count": 11,
   "metadata": {},
   "outputs": [
    {
     "name": "stdout",
     "output_type": "stream",
     "text": [
      "Number of objects = 10        \n",
      "Learning rate = 0.01        \n",
      "Initial weights = [1.  0.5] \n",
      "\n",
      "Iteration #0: W_new = [2.08 4.27], MSE = 3047.75\n",
      "Iteration #10: W_new = [ 7.0011236 10.6169007], MSE = 738.65\n",
      "Iteration #20: W_new = [10.3486292  10.10603105], MSE = 622.03\n",
      "Iteration #30: W_new = [13.38789582  9.55618391], MSE = 525.24\n",
      "Iteration #40: W_new = [16.16088505  9.05336203], MSE = 444.66\n",
      "Iteration #50: W_new = [18.69110735  8.59454545], MSE = 377.58\n",
      "Iteration #60: W_new = [20.99981865  8.17589626], MSE = 321.72\n",
      "Iteration #70: W_new = [23.10641138  7.79389815], MSE = 275.22\n",
      "Iteration #80: W_new = [25.02858024  7.44534246], MSE = 236.5\n",
      "Iteration #90: W_new = [26.78247081  7.12730145], MSE = 204.27\n"
     ]
    }
   ],
   "source": [
    "n = X.shape[0]\n",
    "\n",
    "eta = 1e-2 \n",
    "n_iter = 100\n",
    "\n",
    "W = np.array([1, 0.5])\n",
    "print(f'Number of objects = {n} \\\n",
    "       \\nLearning rate = {eta} \\\n",
    "       \\nInitial weights = {W} \\n')\n",
    "\n",
    "for i in range(n_iter):\n",
    "    y_pred = np.dot(X, W)\n",
    "    err = calc_mse(y, y_pred)\n",
    "#     for k in range(W.shape[0]):\n",
    "#         W[k] -= eta * (1/n * 2 * X[:, k] @ (y_pred - y))\n",
    "    # ИЗМЕНЕНИЯ\n",
    "    W -= eta * (1/n * 2 * np.dot(X.T, y_pred - y)) # ОШИБКА надо использовать Х.Т\n",
    "    # ИЗМЕНЕНИЯ\n",
    "    #\n",
    "    if i % 10 == 0:\n",
    "        print(f'Iteration #{i}: W_new = {W}, MSE = {round(err,2)}')"
   ]
  },
  {
   "cell_type": "markdown",
   "metadata": {},
   "source": [
    "# ЗАДАНИЕ 3\n",
    "\n",
    "### Вместо того, чтобы задавать количество итераций, задайте \n",
    "### другое условие останова алгоритма - когда веса перестают \n",
    "### изменяться меньше определенного порога  𝜖 ."
   ]
  },
  {
   "cell_type": "code",
   "execution_count": 12,
   "metadata": {},
   "outputs": [
    {
     "name": "stdout",
     "output_type": "stream",
     "text": [
      "Number of objects = 10        \n",
      "Learning rate = 0.01        \n",
      "Initial weights = [1.  0.5] \n",
      "\n",
      "Iteration #0: W_new = [2.08 4.27], MSE = 3047.75\n",
      "Iteration #10: W_new = [ 7.0011236 10.6169007], MSE = 738.65\n",
      "Iteration #20: W_new = [10.3486292  10.10603105], MSE = 622.03\n",
      "Iteration #30: W_new = [13.38789582  9.55618391], MSE = 525.24\n",
      "Iteration #40: W_new = [16.16088505  9.05336203], MSE = 444.66\n",
      "Iteration #50: W_new = [18.69110735  8.59454545], MSE = 377.58\n",
      "Iteration #60: W_new = [20.99981865  8.17589626], MSE = 321.72\n",
      "Iteration #70: W_new = [23.10641138  7.79389815], MSE = 275.22\n",
      "Iteration #80: W_new = [25.02858024  7.44534246], MSE = 236.5\n",
      "Iteration #90: W_new = [26.78247081  7.12730145], MSE = 204.27\n",
      "Iteration #100: W_new = [28.38281518  6.83710367], MSE = 177.43\n",
      "Iteration #110: W_new = [29.84305573  6.57231156], MSE = 155.08\n",
      "Iteration #120: W_new = [31.17545797  6.33070096], MSE = 136.48\n",
      "Iteration #130: W_new = [32.39121367  6.11024241], MSE = 120.99\n",
      "Iteration #140: W_new = [33.50053475  5.90908413], MSE = 108.09\n",
      "Iteration #150: W_new = [34.51273915  5.72553647], MSE = 97.36\n",
      "Iteration #160: W_new = [35.43632906  5.55805768], MSE = 88.42\n",
      "Iteration #170: W_new = [36.27906231  5.405241  ], MSE = 80.98\n",
      "Iteration #180: W_new = [37.0480176   5.26580281], MSE = 74.78\n",
      "Iteration #190: W_new = [37.74965389  5.13857189], MSE = 69.62\n",
      "Iteration #200: W_new = [38.38986469  5.02247953], MSE = 65.33\n",
      "Iteration #210: W_new = [38.97402756  4.9165506 ], MSE = 61.75\n",
      "Iteration #220: W_new = [39.50704928  4.81989533], MSE = 58.77\n",
      "Iteration #230: W_new = [39.99340705  4.73170185], MSE = 56.29\n",
      "Iteration #240: W_new = [40.43718613  4.65122936], MSE = 54.23\n",
      "Iteration #250: W_new = [40.84211409  4.57780191], MSE = 52.51\n",
      "Iteration #260: W_new = [41.21159221  4.51080275], MSE = 51.08\n",
      "Iteration #270: W_new = [41.54872398  4.4496691 ], MSE = 49.89\n",
      "Iteration #280: W_new = [41.8563412   4.39388747], MSE = 48.9\n",
      "Iteration #290: W_new = [42.13702774  4.34298929], MSE = 48.07\n",
      "Iteration #300: W_new = [42.39314129  4.29654705], MSE = 47.39\n",
      "Iteration #310: W_new = [42.6268331   4.25417064], MSE = 46.81\n",
      "Iteration #320: W_new = [42.84006612  4.21550412], MSE = 46.34\n",
      "Iteration #330: W_new = [43.03463143  4.1802227 ], MSE = 45.94\n",
      "Iteration #340: W_new = [43.21216332  4.14803003], MSE = 45.61\n",
      "Iteration #350: W_new = [43.37415299  4.1186557 ], MSE = 45.34\n",
      "Iteration #360: W_new = [43.5219611   4.09185298], MSE = 45.11\n",
      "Iteration #370: W_new = [43.6568292   4.06739673], MSE = 44.92\n",
      "Iteration #380: W_new = [43.77989013  4.04508153], MSE = 44.76\n",
      "Iteration #390: W_new = [43.89217756  4.02471993], MSE = 44.63\n",
      "Iteration #400: W_new = [43.99463466  4.00614091], MSE = 44.52\n",
      "Iteration #410: W_new = [44.08812206  3.98918842], MSE = 44.42\n",
      "Iteration #420: W_new = [44.173425    3.97372004], MSE = 44.35\n",
      "Iteration #430: W_new = [44.25126001  3.95960587], MSE = 44.28\n",
      "Iteration #440: W_new = [44.32228086  3.94672733], MSE = 44.23\n",
      "Iteration #450: W_new = [44.38708413  3.93497626], MSE = 44.19\n",
      "Iteration #460: W_new = [44.44621412  3.92425394], MSE = 44.15\n",
      "Iteration #470: W_new = [44.50016751  3.91447033], MSE = 44.12\n",
      "Iteration #480: W_new = [44.5493975   3.90554323], MSE = 44.1\n",
      "Iteration #490: W_new = [44.5943176   3.89739766], MSE = 44.07\n",
      "Iteration #500: W_new = [44.63530512  3.8899652 ], MSE = 44.06\n",
      "Iteration #510: W_new = [44.67270435  3.88318343], MSE = 44.04\n",
      "Iteration #520: W_new = [44.70682942  3.87699538], MSE = 44.03\n",
      "Iteration #530: W_new = [44.73796697  3.87134906], MSE = 44.02\n",
      "Iteration #540: W_new = [44.76637856  3.86619706], MSE = 44.01\n",
      "Iteration #550: W_new = [44.79230282  3.86149609], MSE = 44.0\n",
      "Iteration #560: W_new = [44.81595752  3.85720668], MSE = 44.0\n",
      "Iteration #570: W_new = [44.83754134  3.85329279], MSE = 43.99\n",
      "Iteration #580: W_new = [44.85723558  3.84972154], MSE = 43.99\n",
      "Iteration #590: W_new = [44.87520567  3.84646294], MSE = 43.99\n",
      "Iteration #600: W_new = [44.89160255  3.84348962], MSE = 43.98\n",
      "Iteration #610: W_new = [44.90656394  3.8407766 ], MSE = 43.98\n",
      "Iteration #620: W_new = [44.92021553  3.83830109], MSE = 43.98\n",
      "Iteration #630: W_new = [44.93267197  3.83604231], MSE = 43.98\n",
      "Iteration #640: W_new = [44.94403791  3.83398127], MSE = 43.98\n",
      "Iteration #650: W_new = [44.95440879  3.83210067], MSE = 43.97\n"
     ]
    }
   ],
   "source": [
    "n = X.shape[0]\n",
    "\n",
    "eta = 1e-2 \n",
    "n_iter = 100\n",
    "epsilon = 1e-3\n",
    "W = np.array([1, 0.5])\n",
    "W_old = np.array([np.inf, np.inf])\n",
    "i=0\n",
    "print(f'Number of objects = {n} \\\n",
    "       \\nLearning rate = {eta} \\\n",
    "       \\nInitial weights = {W} \\n')\n",
    "while ((sum(np.abs(W_old-W)>epsilon))>0):     \n",
    "    y_pred = np.dot(X, W)\n",
    "    err = calc_mse(y, y_pred)\n",
    "    W_old = W.copy()\n",
    "    W -= eta * (1/n * 2 * np.dot(X.T, y_pred - y))\n",
    "    if i % 10 == 0:\n",
    "        print(f'Iteration #{i}: W_new = {W}, MSE = {round(err,2)}')\n",
    "    i +=1 \n"
   ]
  },
  {
   "cell_type": "code",
   "execution_count": null,
   "metadata": {},
   "outputs": [],
   "source": []
  }
 ],
 "metadata": {
  "kernelspec": {
   "display_name": "Python 3",
   "language": "python",
   "name": "python3"
  },
  "language_info": {
   "codemirror_mode": {
    "name": "ipython",
    "version": 3
   },
   "file_extension": ".py",
   "mimetype": "text/x-python",
   "name": "python",
   "nbconvert_exporter": "python",
   "pygments_lexer": "ipython3",
   "version": "3.8.5"
  }
 },
 "nbformat": 4,
 "nbformat_minor": 4
}
