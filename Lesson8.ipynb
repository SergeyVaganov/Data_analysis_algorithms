{
 "cells": [
  {
   "cell_type": "markdown",
   "metadata": {},
   "source": [
    "### Домашнее задание\n",
    "1. Обучить любую модель классификации на датасете IRIS до применения самописного PCA (2 компоненты) и после него. Сравнить качество классификации по отложенной выборке.\n",
    "2. *Написать свою реализацию метода главных компонент с помощью сингулярного разложения с использованием функции numpy.linalg.svd()"
   ]
  },
  {
   "cell_type": "code",
   "execution_count": 1,
   "metadata": {},
   "outputs": [],
   "source": [
    "import matplotlib.pyplot as plt\n",
    "import numpy as np\n",
    "from sklearn.datasets import load_iris\n",
    "from sklearn.preprocessing import StandardScaler\n",
    "from sklearn.model_selection import train_test_split\n",
    "from statistics import mode\n",
    "from sklearn.decomposition import PCA\n",
    "\n",
    "%matplotlib inline"
   ]
  },
  {
   "cell_type": "markdown",
   "metadata": {},
   "source": [
    "### Задание1\n",
    "Обучить любую модель классификации на датасете IRIS до применения самописного PCA (2 компоненты) и после него. Сравнить качество классификации по отложенной выборке."
   ]
  },
  {
   "cell_type": "code",
   "execution_count": 2,
   "metadata": {},
   "outputs": [
    {
     "data": {
      "text/plain": [
       "((150, 4), (150,))"
      ]
     },
     "execution_count": 2,
     "metadata": {},
     "output_type": "execute_result"
    }
   ],
   "source": [
    "X, y = load_iris(return_X_y=True)\n",
    "X.shape, y.shape"
   ]
  },
  {
   "cell_type": "code",
   "execution_count": 3,
   "metadata": {},
   "outputs": [],
   "source": [
    "X_tr, X_ts, y_train, y_test = train_test_split(X, y, test_size=0.3, random_state=42, stratify=y)"
   ]
  },
  {
   "cell_type": "code",
   "execution_count": 4,
   "metadata": {},
   "outputs": [],
   "source": [
    "scaler = StandardScaler()\n",
    "\n",
    "X_train = scaler.fit_transform(X_tr)\n",
    "X_test = scaler.transform(X_ts)"
   ]
  },
  {
   "cell_type": "code",
   "execution_count": 5,
   "metadata": {},
   "outputs": [
    {
     "data": {
      "image/png": "[encoded data removed]",
      "text/plain": [
       "<Figure size 1080x360 with 2 Axes>"
      ]
     },
     "metadata": {
      "needs_background": "light"
     },
     "output_type": "display_data"
    }
   ],
   "source": [
    "plt.figure(figsize=(15, 5))\n",
    "y = y_train\n",
    "plt.subplot(1,2,1)\n",
    "plt.grid()\n",
    "plt.title('Распределение клаcсов в зависимости от X[0], X[1]')\n",
    "plt.xlabel('X[0]')\n",
    "plt.ylabel('X[1]')\n",
    "for c, i in zip(\"rgb\", [0, 1, 2]):\n",
    "    plt.scatter(X_train[y == i, 0], X_train[y == i, 1])\n",
    "\n",
    "plt.subplot(1,2,2)\n",
    "plt.title('Распределение клаcсов в зависимости от X[2], X[3]')\n",
    "plt.xlabel('X[2]')\n",
    "plt.ylabel('X[3]')\n",
    "plt.grid()\n",
    "for c, i in zip(\"rgb\", [0, 1, 2]):\n",
    "    plt.scatter(X_train[y == i, 2], X_train[y == i, 3])"
   ]
  },
  {
   "cell_type": "code",
   "execution_count": 6,
   "metadata": {},
   "outputs": [],
   "source": [
    "def accuracy(pred, y):\n",
    "    return (sum(pred == y) / len(y))"
   ]
  },
  {
   "cell_type": "code",
   "execution_count": 7,
   "metadata": {},
   "outputs": [],
   "source": [
    "def knn(X_train, y_train, X_test, k):\n",
    "    mx_test = np.repeat(X_test, X_train.shape[0], axis=0).reshape(-1, X_train.shape[0], X_train.shape[1])\n",
    "    mx_train = np.repeat(X_train, X_test.shape[0], axis=0).reshape(-1, X_test.shape[0], X_train.shape[1])\n",
    "    mx_train_T = np.transpose(mx_train, (1,0,2))\n",
    "    mx_dist = np.array(np.linalg.norm(mx_test-mx_train_T, ord=2, axis=2))\n",
    "    index_min = np.argsort(mx_dist)\n",
    "    classes = y_train[index_min[:,:k]]\n",
    "    result = np.apply_along_axis(mode, axis=1, arr=classes)\n",
    "    return result"
   ]
  },
  {
   "cell_type": "code",
   "execution_count": 8,
   "metadata": {},
   "outputs": [],
   "source": [
    "y_pred = knn(X_train, y_train, X_test, k=4)"
   ]
  },
  {
   "cell_type": "code",
   "execution_count": 9,
   "metadata": {},
   "outputs": [
    {
     "name": "stdout",
     "output_type": "stream",
     "text": [
      "Точность алгоритма knn обученного на всех признаках датасета: 0.933\n"
     ]
    }
   ],
   "source": [
    "print(f'Точность алгоритма knn обученного на всех признаках датасета: {accuracy(y_pred, y_test):.3f}')"
   ]
  },
  {
   "cell_type": "code",
   "execution_count": 10,
   "metadata": {},
   "outputs": [
    {
     "data": {
      "text/plain": [
       "((105, 2), (45, 2))"
      ]
     },
     "execution_count": 10,
     "metadata": {},
     "output_type": "execute_result"
    }
   ],
   "source": [
    "pca = PCA(n_components=2)\n",
    "X_train_pca = pca.fit_transform(X_train)\n",
    "X_test_pca = pca.transform(X_test)\n",
    "X_train_pca.shape, X_test_pca.shape"
   ]
  },
  {
   "cell_type": "code",
   "execution_count": 11,
   "metadata": {},
   "outputs": [],
   "source": [
    "y_pred_pca = knn(X_train_pca, y_train, X_test_pca, k=4)"
   ]
  },
  {
   "cell_type": "code",
   "execution_count": 12,
   "metadata": {},
   "outputs": [
    {
     "name": "stdout",
     "output_type": "stream",
     "text": [
      "Точность алгоритма knn обученного на датасете после PCA: 0.911\n"
     ]
    }
   ],
   "source": [
    "print(f'Точность алгоритма knn обученного на датасете после PCA: {accuracy(y_pred_pca, y_test):.3f}')"
   ]
  },
  {
   "cell_type": "markdown",
   "metadata": {},
   "source": [
    "Проанализировав график \"Распределение клаcсов в зависимости от X[2], X[3]\" исключим из обучения признаки 0 и 1. И обучим модель на двух оставшихся признаках."
   ]
  },
  {
   "cell_type": "code",
   "execution_count": 13,
   "metadata": {},
   "outputs": [],
   "source": [
    "X_train_sel = X_train[:, [2,3]]"
   ]
  },
  {
   "cell_type": "code",
   "execution_count": 14,
   "metadata": {},
   "outputs": [],
   "source": [
    "X_test_sel = X_test[:,[2,3]]"
   ]
  },
  {
   "cell_type": "code",
   "execution_count": 15,
   "metadata": {},
   "outputs": [],
   "source": [
    "y_pred_sel = knn(X_train_sel, y_train, X_test_sel, k=4)"
   ]
  },
  {
   "cell_type": "code",
   "execution_count": 16,
   "metadata": {},
   "outputs": [
    {
     "name": "stdout",
     "output_type": "stream",
     "text": [
      "Точность алгоритма knn обученного на двух признаках [2,3] начального датасета: 0.956\n"
     ]
    }
   ],
   "source": [
    "print(f'Точность алгоритма knn обученного на двух признаках [2,3] начального датасета: {accuracy(y_pred_sel, y_test):.3f}')"
   ]
  },
  {
   "cell_type": "markdown",
   "metadata": {},
   "source": [
    "#### Выводы: \n",
    "1. Классический вариант модели knn обученный на всём датасэте показал метрику 0,933. После понижения размерности до 2 признаков методом РСА тот же алгоритм показал метрику 0,911 что соответствует теоретическим прогнозам. Это объясняется тем, что при понижении размерности происходит некоторая потеря информации. \n",
    "2. Показательно, что простой отбор признаков сработал лучше. В данном примере я исключил из обучения модели признаки 0 и 1 и получил метрику 0,956. Это показывает нам, что при анализе данных нельзя пренебрегать одними алгоритмом в пользу другого, и что даже самый простой алгоритм может сработать лучше самого сложного.  "
   ]
  },
  {
   "cell_type": "code",
   "execution_count": null,
   "metadata": {},
   "outputs": [],
   "source": []
  },
  {
   "cell_type": "markdown",
   "metadata": {},
   "source": [
    "### Задание2\n",
    "*Написать свою реализацию метода главных компонент с помощью сингулярного разложения с использованием функции numpy.linalg.svd()"
   ]
  },
  {
   "cell_type": "code",
   "execution_count": 17,
   "metadata": {},
   "outputs": [],
   "source": [
    "class PCA_SVD:\n",
    "    \n",
    "    def __init__(self, n_components):\n",
    "        self.n_components = n_components\n",
    "        self.W = None\n",
    "        \n",
    "        \n",
    "    def fit_tranform(self, X_train):\n",
    "        U, d, V = np.linalg.svd(X_train)\n",
    "        self.W = V.T[:, :self.n_components]\n",
    "        return np.dot(X_train, self.W)\n",
    "        \n",
    "        \n",
    "    def transform(self, X_test):\n",
    "        return np.dot(X_test, self.W)\n",
    "    "
   ]
  },
  {
   "cell_type": "code",
   "execution_count": 18,
   "metadata": {},
   "outputs": [],
   "source": [
    "pca_my = PCA_SVD(n_components=2)\n",
    "X_train_svd = pca_my.fit_tranform(X_train)\n",
    "X_test_svd = pca_my.transform(X_test)"
   ]
  },
  {
   "cell_type": "code",
   "execution_count": 19,
   "metadata": {},
   "outputs": [
    {
     "data": {
      "text/plain": [
       "((105, 2), (45, 2))"
      ]
     },
     "execution_count": 19,
     "metadata": {},
     "output_type": "execute_result"
    }
   ],
   "source": [
    "X_train_svd.shape, X_test_svd.shape"
   ]
  },
  {
   "cell_type": "code",
   "execution_count": 20,
   "metadata": {},
   "outputs": [],
   "source": [
    "y_pred_svd = knn(X_train_svd, y_train, X_test_svd, k=4)"
   ]
  },
  {
   "cell_type": "code",
   "execution_count": 21,
   "metadata": {},
   "outputs": [
    {
     "name": "stdout",
     "output_type": "stream",
     "text": [
      "Точность алгоритма knn обученного на датасете после понижения размерности на основые SVD: 0.911\n"
     ]
    }
   ],
   "source": [
    "print(f'Точность алгоритма knn обученного на датасете после понижения размерности на основые SVD: '\n",
    "      f'{accuracy(y_pred_svd, y_test):.3f}')"
   ]
  },
  {
   "cell_type": "code",
   "execution_count": 22,
   "metadata": {},
   "outputs": [
    {
     "data": {
      "image/png": "[encoded data removed]",
      "text/plain": [
       "<Figure size 1080x360 with 2 Axes>"
      ]
     },
     "metadata": {
      "needs_background": "light"
     },
     "output_type": "display_data"
    }
   ],
   "source": [
    "plt.figure(figsize=(15, 5))\n",
    "y = y_train\n",
    "plt.subplot(1,2,1)\n",
    "plt.grid()\n",
    "plt.title('Распределение клаcсов в зависимости от X[0], X[1] после РСА_SVD')\n",
    "plt.xlabel('X[0]')\n",
    "plt.ylabel('X[1]')\n",
    "for c, i in zip(\"rgb\", [0, 1, 2]):\n",
    "    plt.scatter(X_train_svd[y_train == i, 0], X_train_svd[y_train == i, 1])\n",
    "    \n",
    "    \n",
    "plt.subplot(1,2,2)\n",
    "plt.grid()\n",
    "plt.title('Распределение клаcсов в зависимости от X[0], X[1] после РСА')\n",
    "plt.xlabel('X[0]')\n",
    "plt.ylabel('X[1]')\n",
    "for c, i in zip(\"rgb\", [0, 1, 2]):\n",
    "    plt.scatter(X_train_pca[y_train == i, 0], X_train_pca[y_train == i, 1])"
   ]
  },
  {
   "cell_type": "markdown",
   "metadata": {},
   "source": [
    "PCA_SVD зеркальная копия РСА."
   ]
  },
  {
   "cell_type": "code",
   "execution_count": null,
   "metadata": {},
   "outputs": [],
   "source": []
  }
 ],
 "metadata": {
  "kernelspec": {
   "display_name": "Python 3",
   "language": "python",
   "name": "python3"
  },
  "language_info": {
   "codemirror_mode": {
    "name": "ipython",
    "version": 3
   },
   "file_extension": ".py",
   "mimetype": "text/x-python",
   "name": "python",
   "nbconvert_exporter": "python",
   "pygments_lexer": "ipython3",
   "version": "3.8.5"
  }
 },
 "nbformat": 4,
 "nbformat_minor": 4
}
