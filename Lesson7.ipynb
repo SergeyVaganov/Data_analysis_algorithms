{
 "cells": [
  {
   "cell_type": "markdown",
   "metadata": {},
   "source": [
    "### Домашнее задание\n",
    "1. К алгоритму kNN, реализованному на уроке, реализовать добавление весов для соседей по любому из показанных на уроке принципов.\n",
    "2. *Написать функцию подсчета метрики качества кластеризации как среднее квадратичное внутрикластерное расстояние и построить график ее зависимости от количества кластеров k (взять от 1 до 10) для выборки данных из данного урока (создать датасет, как в методичке).\n",
    "3. *Оптимизировать код для KNN (оставить один цикл, либо обойтись без циклов вообще)."
   ]
  },
  {
   "cell_type": "code",
   "execution_count": 1,
   "metadata": {},
   "outputs": [],
   "source": [
    "import numpy as np\n",
    "from sklearn.model_selection import train_test_split\n",
    "from sklearn.datasets import load_iris\n",
    "import matplotlib.pyplot as plt\n",
    "from matplotlib.colors import ListedColormap"
   ]
  },
  {
   "cell_type": "code",
   "execution_count": 2,
   "metadata": {},
   "outputs": [],
   "source": [
    "X, y = load_iris(return_X_y=True)\n",
    "\n",
    "# Для наглядности возьмем только первые два признака (всего в датасете их 4)\n",
    "X = X[:, :2]"
   ]
  },
  {
   "cell_type": "code",
   "execution_count": 3,
   "metadata": {},
   "outputs": [
    {
     "data": {
      "text/plain": [
       "((120, 2), (30, 2))"
      ]
     },
     "execution_count": 3,
     "metadata": {},
     "output_type": "execute_result"
    }
   ],
   "source": [
    "X_train, X_test, y_train, y_test = train_test_split(X, y,\n",
    "                                                    test_size=0.2,\n",
    "                                                    random_state=1,\n",
    "                                                    stratify=y)\n",
    "X_train.shape, X_test.shape"
   ]
  },
  {
   "cell_type": "code",
   "execution_count": 4,
   "metadata": {},
   "outputs": [
    {
     "data": {
      "image/png": "[encoded data removed]",
      "text/plain": [
       "<Figure size 504x504 with 1 Axes>"
      ]
     },
     "metadata": {
      "needs_background": "light"
     },
     "output_type": "display_data"
    }
   ],
   "source": [
    "cmap = ListedColormap(['red', 'green', 'blue'])\n",
    "plt.figure(figsize=(7, 7))\n",
    "plt.scatter(X[:, 0], X[:, 1], c=y, cmap=cmap);"
   ]
  },
  {
   "cell_type": "code",
   "execution_count": 5,
   "metadata": {},
   "outputs": [],
   "source": [
    "def e_metrics(x1, x2):\n",
    "    \n",
    "    distance = np.sum(np.square(x1 - x2))\n",
    "\n",
    "    return np.sqrt(distance)"
   ]
  },
  {
   "cell_type": "code",
   "execution_count": 6,
   "metadata": {},
   "outputs": [],
   "source": [
    "def knn(x_train, y_train, x_test, k):\n",
    "    \n",
    "    answers = []\n",
    "    for x in x_test:\n",
    "        test_distances = []\n",
    "            \n",
    "        for i in range(len(x_train)):\n",
    "            \n",
    "            # расчет расстояния от классифицируемого объекта до\n",
    "            # объекта обучающей выборки\n",
    "            distance = e_metrics(x, x_train[i])\n",
    "            \n",
    "            # Записываем в список значение расстояния и ответа на объекте обучающей выборки\n",
    "            test_distances.append((distance, y_train[i]))\n",
    "        \n",
    "        # создаем словарь со всеми возможными классами\n",
    "        classes = {class_item: 0 for class_item in set(y_train)}\n",
    "        \n",
    "        # Сортируем список и среди первых k элементов подсчитаем частоту появления разных классов\n",
    "        for d in sorted(test_distances)[0:k]:\n",
    "            classes[d[1]] += 1\n",
    "\n",
    "        # Записываем в список ответов наиболее часто встречающийся класс\n",
    "        answers.append(sorted(classes, key=classes.get)[-1])\n",
    "        \n",
    "    return answers"
   ]
  },
  {
   "cell_type": "code",
   "execution_count": 7,
   "metadata": {},
   "outputs": [],
   "source": [
    "def accuracy(pred, y):\n",
    "    return (sum(pred == y) / len(y))"
   ]
  },
  {
   "cell_type": "code",
   "execution_count": 8,
   "metadata": {},
   "outputs": [
    {
     "name": "stdout",
     "output_type": "stream",
     "text": [
      "Wall time: 65 ms\n"
     ]
    }
   ],
   "source": [
    "%%time\n",
    "y_pred = knn(X_train, y_train, X_test, k=4)"
   ]
  },
  {
   "cell_type": "code",
   "execution_count": null,
   "metadata": {},
   "outputs": [],
   "source": []
  },
  {
   "cell_type": "markdown",
   "metadata": {},
   "source": [
    "### Задание1\n",
    "К алгоритму kNN, реализованному на уроке, реализовать добавление весов для соседей по любому из показанных на уроке принципов."
   ]
  },
  {
   "cell_type": "code",
   "execution_count": 9,
   "metadata": {},
   "outputs": [],
   "source": [
    "def knn_weight(x_train, y_train, x_test, k):\n",
    "    \n",
    "    answers = []\n",
    "    for x in x_test:\n",
    "        test_distances = []\n",
    "            \n",
    "        for i in range(len(x_train)):\n",
    "            \n",
    "            # расчет расстояния от классифицируемого объекта до\n",
    "            # объекта обучающей выборки\n",
    "            distance = e_metrics(x, x_train[i])\n",
    "            \n",
    "            # Записываем в список значение расстояния и ответа на объекте обучающей выборки\n",
    "            test_distances.append((distance, y_train[i]))\n",
    "        \n",
    "        # создаем словарь со всеми возможными классами\n",
    "        classes = {class_item: 0 for class_item in set(y_train)}\n",
    "        \n",
    "        # Сортируем список и среди первых k элементов подсчитаем частоту появления разных классов\n",
    "        for i, d in enumerate(sorted(test_distances)[0:k]):\n",
    "            \n",
    "            #-----------------------------------------------------------------------------------------------\n",
    "            # В качестве определения веса используем индекс соседа в отсортированной выборке    \n",
    "            classes[d[1]] += 1/(i+1)\n",
    "            \n",
    "            #----------------------------------------------------------------------------------------------\n",
    "        \n",
    "        # Записываем в список ответов наиболее часто встречающийся класс\n",
    "        answers.append(sorted(classes, key=classes.get)[-1])\n",
    "        \n",
    "    return answers"
   ]
  },
  {
   "cell_type": "code",
   "execution_count": 10,
   "metadata": {},
   "outputs": [
    {
     "name": "stdout",
     "output_type": "stream",
     "text": [
      "Точность алгоритма без весов при k = 4: 0.700\n",
      "Точность алгоритма с весами  при k = 4: 0.700\n"
     ]
    }
   ],
   "source": [
    "k = 4\n",
    "y_pred_weight = knn_weight(X_train, y_train, X_test, k)\n",
    "y_pred = knn(X_train, y_train, X_test, k)\n",
    "\n",
    "print(f'Точность алгоритма без весов при k = {k}: {accuracy(y_pred, y_test):.3f}')\n",
    "print(f'Точность алгоритма с весами  при k = {k}: {accuracy(y_pred_weight, y_test):.3f}')"
   ]
  },
  {
   "cell_type": "markdown",
   "metadata": {},
   "source": [
    "### Задание2\n",
    "*Написать функцию подсчета метрики качества кластеризации как среднее квадратичное внутрикластерное расстояние и построить график ее зависимости от количества кластеров k (взять от 1 до 10) для выборки данных из данного урока (создать датасет, как в методичке)."
   ]
  },
  {
   "cell_type": "code",
   "execution_count": 11,
   "metadata": {},
   "outputs": [],
   "source": [
    "from sklearn.datasets import make_blobs, make_moons\n",
    "\n",
    "X, y = make_blobs(n_samples=100, random_state=1)"
   ]
  },
  {
   "cell_type": "code",
   "execution_count": 12,
   "metadata": {},
   "outputs": [
    {
     "data": {
      "image/png": "[encoded data removed]",
      "text/plain": [
       "<Figure size 504x504 with 1 Axes>"
      ]
     },
     "metadata": {
      "needs_background": "light"
     },
     "output_type": "display_data"
    }
   ],
   "source": [
    "plt.figure(figsize=(7, 7))\n",
    "plt.scatter(X[:, 0], X[:, 1]);"
   ]
  },
  {
   "cell_type": "code",
   "execution_count": 13,
   "metadata": {},
   "outputs": [],
   "source": [
    "def kmeans(data, k, max_iterations, min_distance):\n",
    "    # Создадим словарь для кластеризации\n",
    "    clusters = {i: [] for i in range(k)}\n",
    "    \n",
    "    # инициализируем центроиды как первые k элементов датасета\n",
    "    centroids = [data[i] for i in range(k)]\n",
    "    \n",
    "    for _ in range(max_iterations):\n",
    "        # кластеризуем объекты по центроидам\n",
    "        for x in data:\n",
    "            # определим расстояния от объекта до каждого центроида\n",
    "            distances = [e_metrics(x, centroid) for centroid in centroids]\n",
    "            # отнесем объект к кластеру, до центроида которого наименьшее расстояние\n",
    "            cluster = distances.index(min(distances))\n",
    "            clusters[cluster].append(x)\n",
    "        \n",
    "        # сохраним предыдущие центроиды в отдельный список для последующего сравнения сновыми\n",
    "        old_centroids = centroids.copy()\n",
    "        \n",
    "        # пересчитаем центроиды как среднее по кластерам\n",
    "        for cluster in clusters:\n",
    "            centroids[cluster] = np.mean(clusters[cluster], axis=0)\n",
    "            \n",
    "        # сравним величину смещения центроидов с минимальной\n",
    "        optimal = True\n",
    "        for centroid in range(len(centroids)):\n",
    "            if np.linalg.norm(centroids[centroid] - old_centroids[centroid], ord=2) > min_distance:\n",
    "                optimal = False\n",
    "                break\n",
    "        \n",
    "        # если все смещения меньше минимального, останавливаем алгоритм  \n",
    "        if optimal:\n",
    "            break\n",
    "    \n",
    "    return old_centroids, clusters"
   ]
  },
  {
   "cell_type": "code",
   "execution_count": 14,
   "metadata": {},
   "outputs": [],
   "source": [
    "# определим максимальное количество итераций\n",
    "max_iterations = 5\n",
    "\n",
    "# и минимальное расстояние между центроидами до пересчета и после него, при котором нужно остановить алгоритм\n",
    "min_distance = 1e-4"
   ]
  },
  {
   "cell_type": "code",
   "execution_count": 15,
   "metadata": {},
   "outputs": [],
   "source": [
    "# Cредне квадратичное внутрикластерное расстояние\n",
    "def mscd(centroids, clusters):\n",
    "    dist_clust = {clust :[e_metrics(x, centroids[clust])**2 for x in clusters[clust]] for clust in clusters.keys()}\n",
    "    k_sum=0\n",
    "    for k in dist_clust.keys():\n",
    "        k_sum += np.mean(dist_clust[k])\n",
    "    return k_sum"
   ]
  },
  {
   "cell_type": "code",
   "execution_count": 16,
   "metadata": {},
   "outputs": [],
   "source": [
    "res = []\n",
    "for i in range(1,10):\n",
    "    centroids, clusters = kmeans(X, i, max_iterations, min_distance=1e-4)\n",
    "    res.append(mscd(centroids, clusters))"
   ]
  },
  {
   "cell_type": "code",
   "execution_count": 17,
   "metadata": {},
   "outputs": [
    {
     "data": {
      "image/png": "[encoded data removed]",
      "text/plain": [
       "<Figure size 432x288 with 1 Axes>"
      ]
     },
     "metadata": {
      "needs_background": "light"
     },
     "output_type": "display_data"
    }
   ],
   "source": [
    "plt.plot(list(range(1,10)),res)\n",
    "plt.title('Зависимость средне квадратичного внутрикластерного \\n расстояния (msdc) от числа кластеров')\n",
    "plt.xlabel('число кластеров')\n",
    "plt.grid()\n",
    "plt.show()"
   ]
  },
  {
   "cell_type": "markdown",
   "metadata": {},
   "source": [
    "### Задание3\n",
    "*Оптимизировать код для KNN (оставить один цикл, либо обойтись без циклов вообще)."
   ]
  },
  {
   "cell_type": "code",
   "execution_count": 18,
   "metadata": {},
   "outputs": [],
   "source": [
    "from statistics import mode"
   ]
  },
  {
   "cell_type": "code",
   "execution_count": 19,
   "metadata": {},
   "outputs": [],
   "source": [
    "def knn_time(X_train, y_train, X_test, k):\n",
    "    mx_test = np.repeat(X_test, X_train.shape[0], axis=0).reshape(-1, X_train.shape[0], X_train.shape[1])\n",
    "    mx_train = np.repeat(X_train, X_test.shape[0], axis=0).reshape(-1, X_test.shape[0], X_train.shape[1])\n",
    "    mx_train_T = np.transpose(mx_train, (1,0,X_train.shape[1]))\n",
    "    mx_dist = np.array(np.linalg.norm(mx_test-mx_train_T, ord=2, axis=2))\n",
    "    index_min = np.argsort(mx_dist)\n",
    "    classes = y_train[index_min[:,:k]]\n",
    "    result = np.apply_along_axis(mode, axis=1, arr=classes)\n",
    "    return result\n",
    "    "
   ]
  },
  {
   "cell_type": "code",
   "execution_count": 20,
   "metadata": {},
   "outputs": [
    {
     "name": "stdout",
     "output_type": "stream",
     "text": [
      "Wall time: 69.9 ms\n"
     ]
    }
   ],
   "source": [
    "%%time\n",
    "y_pred = knn(X_train, y_train, X_test, k=4)"
   ]
  },
  {
   "cell_type": "code",
   "execution_count": 21,
   "metadata": {},
   "outputs": [
    {
     "name": "stdout",
     "output_type": "stream",
     "text": [
      "Wall time: 3 ms\n"
     ]
    }
   ],
   "source": [
    "%%time\n",
    "y_pred_time = knn_time(X_train, y_train, X_test, k=4)"
   ]
  },
  {
   "cell_type": "code",
   "execution_count": 22,
   "metadata": {},
   "outputs": [
    {
     "name": "stdout",
     "output_type": "stream",
     "text": [
      "Точность алгоритма при k = 4: 0.700\n"
     ]
    }
   ],
   "source": [
    "print(f'Точность алгоритма при k = {k}: {accuracy(y_pred, y_test):.3f}')"
   ]
  },
  {
   "cell_type": "code",
   "execution_count": 23,
   "metadata": {},
   "outputs": [
    {
     "name": "stdout",
     "output_type": "stream",
     "text": [
      "Точность алгоритма оптимизированного по времени исполнения при k = 4: 0.700\n"
     ]
    }
   ],
   "source": [
    "print(f'Точность алгоритма оптимизированного по времени исполнения при k = {k}: {accuracy(y_pred_time, y_test):.3f}')"
   ]
  }
 ],
 "metadata": {
  "kernelspec": {
   "display_name": "Python 3",
   "language": "python",
   "name": "python3"
  },
  "language_info": {
   "codemirror_mode": {
    "name": "ipython",
    "version": 3
   },
   "file_extension": ".py",
   "mimetype": "text/x-python",
   "name": "python",
   "nbconvert_exporter": "python",
   "pygments_lexer": "ipython3",
   "version": "3.8.5"
  }
 },
 "nbformat": 4,
 "nbformat_minor": 4
}
